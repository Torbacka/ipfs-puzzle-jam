{
 "cells": [
  {
   "cell_type": "code",
   "execution_count": 1,
   "metadata": {
    "slideshow": {
     "slide_type": "subslide"
    }
   },
   "outputs": [
    {
     "name": "stdout",
     "output_type": "stream",
     "text": [
      "x go-ipfs/build-log\n",
      "x go-ipfs/install.sh\n",
      "x go-ipfs/ipfs\n",
      "x go-ipfs/LICENSE\n",
      "x go-ipfs/README.md\n"
     ]
    }
   ],
   "source": [
    "export IPFS_BIN=https://dist.ipfs.io/go-ipfs/v0.4.17/go-ipfs_v0.4.17_$(uname -s| awk '{print tolower($0)}')-amd64.tar.gz\n",
    "curl -s $IPFS_BIN | tar xvf -"
   ]
  },
  {
   "cell_type": "code",
   "execution_count": null,
   "metadata": {},
   "outputs": [],
   "source": [
    "\n",
    "sudo ./go-ipfs/install.sh"
   ]
  },
  {
   "cell_type": "code",
   "execution_count": 2,
   "metadata": {
    "slideshow": {
     "slide_type": "subslide"
    }
   },
   "outputs": [
    {
     "name": "stdout",
     "output_type": "stream",
     "text": [
      "USAGE\n",
      "  ipfs - Global p2p merkle-dag filesystem.\n",
      "\n",
      "  ipfs [--config=<config> | -c] [--debug=<debug> | -D] [--help=<help>] [-h=<h>] [--local=<local> | -L] [--api=<api>] <command> ...\n",
      "\n",
      "SUBCOMMANDS\n",
      "  BASIC COMMANDS\n",
      "    init          Initialize ipfs local configuration\n",
      "    add <path>    Add a file to IPFS\n",
      "    cat <ref>     Show IPFS object data\n",
      "    get <ref>     Download IPFS objects\n",
      "    ls <ref>      List links from an object\n",
      "    refs <ref>    List hashes of links from an object\n"
     ]
    }
   ],
   "source": [
    "ipfs help | head -n 13"
   ]
  },
  {
   "cell_type": "code",
   "execution_count": null,
   "metadata": {
    "slideshow": {
     "slide_type": "subslide"
    }
   },
   "outputs": [],
   "source": [
    "# Now we need to Init the DB\n",
    "ipfs init\n",
    "# Now in a separate shell: boot up the IPFS daemon\n",
    "ipfs daemon"
   ]
  },
  {
   "cell_type": "code",
   "execution_count": 3,
   "metadata": {},
   "outputs": [
    {
     "name": "stdout",
     "output_type": "stream",
     "text": [
      "# IPFS Puzzle Jam\n",
      "\n",
      "```\n",
      "WHEN: 2018-10-05 17:00-19:00 CEST\n",
      "LOC: Eriksbergsgatan 27 - <https://goo.gl/maps/uPKnpZ1GmSy>\n",
      "EMAIL: will@klira.io\n",
      "RSVP: https://whn.typeform.com/to/kVrn4k\n",
      "```\n",
      "\n",
      "`Klira` invites you to join us for our `IPFS` puzzle jam, at our new\n",
      "Offices in the Brand Building. IPFS, the *InterPlanetary filesystem*,\n",
      "aims to distribute and decentralize the HTTP-echosystem by providing a\n",
      "content-addressable trust-less system for sharing content, that is\n",
      "secure, hard to censor and delivered peer to peer. It even makes it\n",
      "possible to host a website without controlling a single server. Read\n",
      "more on [IPFS.io](https://ipfs.io)\n",
      "\n",
      "Join us for unconference style discussions of how IPFS can be put to\n",
      "practical use today and how it might be used to enable vastly\n",
      "different use-cases in the future, and hands-on workshops on using\n",
      "IPFS in the real world. The topic of the workshops will be creating\n",
      "code puzzles on IPFS. The event is entirely drop-in and you can arrive\n",
      "at any time. Pizzas will be served at 18:00.\n",
      "\n",
      "**Workshops:** For the workshops participants will be divided into\n",
      "small groups of 2-3 people and tasked with creating a puzzle. The\n",
      "puzzle can be on any topic, it just has to be deployed on IPFS.\n"
     ]
    }
   ],
   "source": [
    "# Lets look at the invite for this hackathon\n",
    "ipfs cat QmVjYKxQ5kAvxxiEmFph6XosWL7jtWbfjiJQX3Ao618xre"
   ]
  },
  {
   "cell_type": "code",
   "execution_count": 4,
   "metadata": {
    "slideshow": {
     "slide_type": "subslide"
    }
   },
   "outputs": [
    {
     "name": "stdout",
     "output_type": "stream",
     "text": [
      "added QmePw8gVcBMb8x6kAep6aMBAX23hCSk6iZW3i9VKkiFhu1 QmePw8gVcBMb8x6kAep6aMBAX23hCSk6iZW3i9VKkiFhu1\n",
      " 12 B / ? [-------------------------------------------------------=-----------] "
     ]
    }
   ],
   "source": [
    "# Now lets create our own file.\n",
    "echo \"Hello world\" | ipfs add"
   ]
  },
  {
   "cell_type": "code",
   "execution_count": 5,
   "metadata": {
    "slideshow": {
     "slide_type": "subslide"
    }
   },
   "outputs": [
    {
     "name": "stdout",
     "output_type": "stream",
     "text": [
      "QmePw8gVcBMb8x6kAep6aMBAX23hCSk6iZW3i9VKkiFhu1\n"
     ]
    }
   ],
   "source": [
    "# We can add -q to just get final hash\n",
    "echo \"Hello world\" | ipfs add -Q"
   ]
  },
  {
   "cell_type": "code",
   "execution_count": 6,
   "metadata": {
    "slideshow": {
     "slide_type": "subslide"
    }
   },
   "outputs": [
    {
     "name": "stdout",
     "output_type": "stream",
     "text": [
      "Hello world\n"
     ]
    }
   ],
   "source": [
    "# and we can now cat it\n",
    "ipfs cat QmePw8gVcBMb8x6kAep6aMBAX23hCSk6iZW3i9VKkiFhu1 "
   ]
  },
  {
   "cell_type": "code",
   "execution_count": 11,
   "metadata": {
    "slideshow": {
     "slide_type": "subslide"
    }
   },
   "outputs": [
    {
     "name": "stdout",
     "output_type": "stream",
     "text": [
      "added QmUDR6isKceq7ricFchYCBoWcrNzX1aCJ5rxfFz5TLNfjL QmUDR6isKceq7ricFchYCBoWcrNzX1aCJ5rxfFz5TLNfjL\n",
      " 72 B / ? [---------------------------------------------------------------=---] "
     ]
    }
   ],
   "source": [
    "ipfs add <<EOF\n",
    "<!doctype html> \n",
    "<title>Hello IPFS</title>\n",
    "<div>\n",
    "  This is a div\n",
    "</div>\n",
    "EOF"
   ]
  },
  {
   "cell_type": "code",
   "execution_count": null,
   "metadata": {
    "slideshow": {
     "slide_type": "subslide"
    }
   },
   "outputs": [],
   "source": [
    "xdg-open http://localhost:8080/ipfs/$YOUR_IPFS_HASH_HERE\n",
    "xdg-open http://ipfs.io/ipfs/$YOUR_IPFS_HASH_HERE\n",
    "xdg-open http://cloudflare-ipfs.com/ipfs/$YOUR_IPFS_HASH_HERE"
   ]
  },
  {
   "cell_type": "markdown",
   "metadata": {
    "slideshow": {
     "slide_type": "subslide"
    }
   },
   "source": [
    "# Hosting a complete folder"
   ]
  },
  {
   "cell_type": "code",
   "execution_count": 8,
   "metadata": {
    "slideshow": {
     "slide_type": "fragment"
    }
   },
   "outputs": [],
   "source": [
    "mkdir -p my-first-ipfs-site\n",
    "cd my-first-ipfs-site"
   ]
  },
  {
   "cell_type": "markdown",
   "metadata": {
    "slideshow": {
     "slide_type": "subslide"
    }
   },
   "source": [
    "index.html\n",
    "\n",
    "```<!doctype html>\n",
    "  <title>Hello page</title>\n",
    "  <h1>My cat-pic</h1>\n",
    "  <img src=\"cat.jpg\" />```"
   ]
  },
  {
   "cell_type": "code",
   "execution_count": 9,
   "metadata": {
    "slideshow": {
     "slide_type": "subslide"
    }
   },
   "outputs": [],
   "source": [
    "ipfs cat QmfG8NDS7JmhDtAN2NkopofL55Le1ZDteHfBxLHaBLwKt5 > cat.jpg"
   ]
  },
  {
   "cell_type": "code",
   "execution_count": 10,
   "metadata": {
    "slideshow": {
     "slide_type": "subslide"
    }
   },
   "outputs": [
    {
     "name": "stdout",
     "output_type": "stream",
     "text": [
      "added QmfG8NDS7JmhDtAN2NkopofL55Le1ZDteHfBxLHaBLwKt5 my-first-ipfs-site/cat.jpg \u001b[2K\n",
      "added QmZPTwXgAofZsBUT67yfDhHfNpgQYQKYddJSSqMpGXfVTz my-first-ipfs-site/index.html2K\n",
      "added Qmdx1FG1hYbdKQj4XAbEXtGcvK8Z3ChaHoLxGSy3XF4UDD my-first-ipfs-site]  99.88%\u001b[2K\n",
      " 107.80 KiB / 107.93 KiB [=============================================]  99.88%"
     ]
    }
   ],
   "source": [
    "ipfs add -r ."
   ]
  },
  {
   "cell_type": "code",
   "execution_count": null,
   "metadata": {},
   "outputs": [],
   "source": [
    "xdg-open http://localhost:8080/ipfs/Qmdx1FG1hYbdKQj4XAbEXtGcvK8Z3ChaHoLxGSy3XF4UDD"
   ]
  }
 ],
 "metadata": {
  "celltoolbar": "Slideshow",
  "kernelspec": {
   "display_name": "Bash",
   "language": "bash",
   "name": "bash"
  },
  "language_info": {
   "codemirror_mode": "shell",
   "file_extension": ".sh",
   "mimetype": "text/x-sh",
   "name": "bash"
  }
 },
 "nbformat": 4,
 "nbformat_minor": 2
}
